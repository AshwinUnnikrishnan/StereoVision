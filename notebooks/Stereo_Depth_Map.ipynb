{
 "cells": [
  {
   "cell_type": "code",
   "execution_count": 36,
   "id": "a9bdc9c0-ee9a-4181-8c12-c07e8f3a6c5e",
   "metadata": {
    "tags": []
   },
   "outputs": [],
   "source": [
    "import cv2\n",
    "import numpy as np\n",
    "import matplotlib.pyplot as plt\n",
    "from tqdm import tqdm"
   ]
  },
  {
   "cell_type": "code",
   "execution_count": 37,
   "id": "260d8f6f-7d8a-4229-bdc7-b277ec65e34e",
   "metadata": {},
   "outputs": [],
   "source": [
    "# Check for left and right camera IDs\n",
    "# These values can change depending on the system\n",
    "CamL_id = 0 # Camera ID for left camera\n",
    "CamR_id = 2 # Camera ID for right camera"
   ]
  },
  {
   "cell_type": "code",
   "execution_count": 38,
   "id": "2adae63c-d447-4143-8f17-5f441f4ce6dd",
   "metadata": {
    "tags": []
   },
   "outputs": [],
   "source": [
    "# Reading the mapping values for stereo image rectification\n",
    "cv_file = cv2.FileStorage(\"improved_params2.xml\", cv2.FILE_STORAGE_READ)\n",
    "\n",
    "Left_Stereo_Map_x = cv_file.getNode(\"Left_Stereo_Map_x\").mat()\n",
    "\n",
    "Left_Stereo_Map_y = cv_file.getNode(\"Left_Stereo_Map_y\").mat()\n",
    "\n",
    "Right_Stereo_Map_x = cv_file.getNode(\"Right_Stereo_Map_x\").mat()\n",
    "\n",
    "Right_Stereo_Map_y = cv_file.getNode(\"Right_Stereo_Map_y\").mat()\n",
    "\n",
    "cv_file.release()\n",
    "\n",
    "def nothing(x):\n",
    "    pass\n"
   ]
  },
  {
   "cell_type": "code",
   "execution_count": 41,
   "id": "260bebf8-f2ef-47a6-a00b-f4141419a972",
   "metadata": {},
   "outputs": [
    {
     "ename": "error",
     "evalue": "OpenCV(4.5.5) D:\\a\\opencv-python\\opencv-python\\opencv\\modules\\highgui\\src\\window_w32.cpp:2581: error: (-27:Null pointer) NULL window: 'disp' in function 'cvGetTrackbarPos'\n",
     "output_type": "error",
     "traceback": [
      "\u001b[1;31m---------------------------------------------------------------------------\u001b[0m",
      "\u001b[1;31merror\u001b[0m                                     Traceback (most recent call last)",
      "\u001b[1;32m~\\AppData\\Local\\Temp/ipykernel_8668/1728953264.py\u001b[0m in \u001b[0;36m<module>\u001b[1;34m\u001b[0m\n\u001b[0;32m     55\u001b[0m \u001b[1;33m\u001b[0m\u001b[0m\n\u001b[0;32m     56\u001b[0m         \u001b[1;31m# Updating the parameters based on the trackbar positions\u001b[0m\u001b[1;33m\u001b[0m\u001b[1;33m\u001b[0m\u001b[0m\n\u001b[1;32m---> 57\u001b[1;33m         \u001b[0mnumDisparities\u001b[0m \u001b[1;33m=\u001b[0m \u001b[0mcv2\u001b[0m\u001b[1;33m.\u001b[0m\u001b[0mgetTrackbarPos\u001b[0m\u001b[1;33m(\u001b[0m\u001b[1;34m'numDisparities'\u001b[0m\u001b[1;33m,\u001b[0m\u001b[1;34m'disp'\u001b[0m\u001b[1;33m)\u001b[0m\u001b[1;33m*\u001b[0m\u001b[1;36m16\u001b[0m\u001b[1;33m\u001b[0m\u001b[1;33m\u001b[0m\u001b[0m\n\u001b[0m\u001b[0;32m     58\u001b[0m         \u001b[1;32mif\u001b[0m \u001b[0mnumDisparities\u001b[0m \u001b[1;33m==\u001b[0m \u001b[1;36m0\u001b[0m\u001b[1;33m:\u001b[0m\u001b[1;33m\u001b[0m\u001b[1;33m\u001b[0m\u001b[0m\n\u001b[0;32m     59\u001b[0m             \u001b[0mnumDisparities\u001b[0m \u001b[1;33m=\u001b[0m \u001b[1;36m16\u001b[0m\u001b[1;33m\u001b[0m\u001b[1;33m\u001b[0m\u001b[0m\n",
      "\u001b[1;31merror\u001b[0m: OpenCV(4.5.5) D:\\a\\opencv-python\\opencv-python\\opencv\\modules\\highgui\\src\\window_w32.cpp:2581: error: (-27:Null pointer) NULL window: 'disp' in function 'cvGetTrackbarPos'\n"
     ]
    }
   ],
   "source": [
    "CamL= cv2.VideoCapture(CamL_id)\n",
    "CamR= cv2.VideoCapture(CamR_id)\n",
    "cv2.namedWindow('disp',cv2.WINDOW_NORMAL)\n",
    "cv2.resizeWindow('disp',600,600)\n",
    "cv2.createTrackbar('numDisparities','disp',1,17,nothing)\n",
    "cv2.createTrackbar('blockSize','disp',5,50,nothing)\n",
    "cv2.createTrackbar('preFilterType','disp',1,1,nothing)\n",
    "cv2.createTrackbar('preFilterSize','disp',2,25,nothing)\n",
    "cv2.createTrackbar('preFilterCap','disp',5,62,nothing)\n",
    "cv2.createTrackbar('textureThreshold','disp',10,100,nothing)\n",
    "cv2.createTrackbar('uniquenessRatio','disp',15,100,nothing)\n",
    "cv2.createTrackbar('speckleRange','disp',0,100,nothing)\n",
    "cv2.createTrackbar('speckleWindowSize','disp',3,25,nothing)\n",
    "cv2.createTrackbar('disp12MaxDiff','disp',5,25,nothing)\n",
    "cv2.createTrackbar('minDisparity','disp',5,25,nothing)\n",
    "\n",
    "# Creating an object of StereoBM algorithm\n",
    "stereo = cv2.StereoBM_create()\n",
    "bf = cv2.BFMatcher(cv2.NORM_L1, crossCheck=True)\n",
    "\n",
    "while True:\n",
    "\n",
    "    # Capturing and storing left and right camera images\n",
    "    retL, imgL= CamL.read()\n",
    "    retR, imgR= CamR.read()\n",
    "    \n",
    "    # Proceed only if the frames have been captured\n",
    "    if retL and retR:\n",
    "        imgR_gray = cv2.cvtColor(imgR,cv2.COLOR_BGR2GRAY)\n",
    "        imgL_gray = cv2.cvtColor(imgL,cv2.COLOR_BGR2GRAY)\n",
    "\n",
    "        # Applying stereo image rectification on the left image\n",
    "        Left_nice= cv2.remap(imgL_gray,\n",
    "                            Left_Stereo_Map_x,\n",
    "                            Left_Stereo_Map_y,\n",
    "                            cv2.INTER_LANCZOS4,\n",
    "                            cv2.BORDER_CONSTANT,\n",
    "                            0)\n",
    "        \n",
    "        # Applying stereo image rectification on the right image\n",
    "        Right_nice= cv2.remap(imgR_gray,\n",
    "                            Right_Stereo_Map_x,\n",
    "                            Right_Stereo_Map_y,\n",
    "                            cv2.INTER_LANCZOS4,\n",
    "                            cv2.BORDER_CONSTANT,\n",
    "                            0)\n",
    "        \n",
    "        sift = cv2.xfeatures2d.SIFT_create()\n",
    "        keypoints_1, descriptors_1 = sift.detectAndCompute(Left_nice,None)\n",
    "        keypoints_2, descriptors_2 = sift.detectAndCompute(Right_nice,None)\n",
    "        matches = bf.match(descriptors_1,descriptors_2)\n",
    "        matches = sorted(matches, key = lambda x:x.distance)\n",
    "        img3 = cv2.drawMatches(Left_nice, keypoints_1, Right_nice, keypoints_2, matches[:50], Right_nice, flags=2)\n",
    "        cv2.imshow(\"matched keypoints\", img3)\n",
    "        \n",
    "        # Updating the parameters based on the trackbar positions\n",
    "        numDisparities = cv2.getTrackbarPos('numDisparities','disp')*16\n",
    "        if numDisparities == 0:\n",
    "            numDisparities = 16\n",
    "        blockSize = cv2.getTrackbarPos('blockSize','disp')*2 + 5\n",
    "        preFilterType = cv2.getTrackbarPos('preFilterType','disp')\n",
    "        preFilterSize = cv2.getTrackbarPos('preFilterSize','disp')*2 + 5\n",
    "        preFilterCap = cv2.getTrackbarPos('preFilterCap','disp')\n",
    "        textureThreshold = cv2.getTrackbarPos('textureThreshold','disp')\n",
    "        uniquenessRatio = cv2.getTrackbarPos('uniquenessRatio','disp')\n",
    "        speckleRange = cv2.getTrackbarPos('speckleRange','disp')\n",
    "        speckleWindowSize = cv2.getTrackbarPos('speckleWindowSize','disp')*2\n",
    "        disp12MaxDiff = cv2.getTrackbarPos('disp12MaxDiff','disp')\n",
    "        minDisparity = cv2.getTrackbarPos('minDisparity','disp')\n",
    "        \n",
    "        # Setting the updated parameters before computing disparity map\n",
    "        stereo.setNumDisparities(numDisparities)\n",
    "        stereo.setBlockSize(blockSize)\n",
    "        stereo.setPreFilterType(preFilterType)\n",
    "        stereo.setPreFilterSize(preFilterSize)\n",
    "        stereo.setPreFilterCap(preFilterCap)\n",
    "        stereo.setTextureThreshold(textureThreshold)\n",
    "        stereo.setUniquenessRatio(uniquenessRatio)\n",
    "        stereo.setSpeckleRange(speckleRange)\n",
    "        stereo.setSpeckleWindowSize(speckleWindowSize)\n",
    "        stereo.setDisp12MaxDiff(disp12MaxDiff)\n",
    "        stereo.setMinDisparity(minDisparity)\n",
    "\n",
    "        # Calculating disparity using the StereoBM algorithm\n",
    "        disparity = stereo.compute(Left_nice,Right_nice)\n",
    "        # NOTE: Code returns a 16bit signed single channel image,\n",
    "        # CV_16S containing a disparity map scaled by 16. Hence it \n",
    "        # is essential to convert it to CV_32F and scale it down 16 times.\n",
    "\n",
    "        # Converting to float32 \n",
    "        disparity = disparity.astype(np.float32)\n",
    "\n",
    "        # Scaling down the disparity values and normalizing them \n",
    "        disparity = (disparity/16.0 - minDisparity)/numDisparities\n",
    "\n",
    "        # Displaying the disparity map\n",
    "        cv2.imshow(\"disp\",disparity)\n",
    "\n",
    "        # Close window using esc key\n",
    "        if cv2.waitKey(1) == 27:\n",
    "            break\n",
    "    \n",
    "    else:\n",
    "        CamL= cv2.VideoCapture(CamL_id)\n",
    "        CamR= cv2.VideoCapture(CamR_id)\n"
   ]
  },
  {
   "cell_type": "code",
   "execution_count": 40,
   "id": "1016ff8a-3abf-4f62-9335-9139f2ddc461",
   "metadata": {},
   "outputs": [],
   "source": [
    "CamL.release()\n",
    "CamR.release()\n",
    "cv2.destroyAllWindows()"
   ]
  },
  {
   "cell_type": "code",
   "execution_count": null,
   "id": "c18c2486-d37a-4bfa-9af8-fcacb2e6bd33",
   "metadata": {},
   "outputs": [],
   "source": []
  }
 ],
 "metadata": {
  "kernelspec": {
   "display_name": "Python 3 (ipykernel)",
   "language": "python",
   "name": "python3"
  },
  "language_info": {
   "codemirror_mode": {
    "name": "ipython",
    "version": 3
   },
   "file_extension": ".py",
   "mimetype": "text/x-python",
   "name": "python",
   "nbconvert_exporter": "python",
   "pygments_lexer": "ipython3",
   "version": "3.9.7"
  }
 },
 "nbformat": 4,
 "nbformat_minor": 5
}
