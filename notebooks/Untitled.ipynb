{
 "cells": [
  {
   "cell_type": "code",
   "execution_count": 1,
   "id": "3fd43b60-629e-408b-93c6-7dc5cd9fdf8c",
   "metadata": {},
   "outputs": [],
   "source": [
    "import cv2\n",
    "import numpy as np \n",
    "import glob\n",
    "from tqdm import tqdm\n",
    "from matplotlib import pyplot as plt \n",
    "import cv2 as cv"
   ]
  },
  {
   "cell_type": "code",
   "execution_count": 2,
   "id": "0c879aa1-08d4-4dd3-9431-852805ec8e05",
   "metadata": {},
   "outputs": [],
   "source": [
    "H1 = np.load(\"H1.npy\")\n",
    "H2 = np.load(\"H2.npy\")"
   ]
  },
  {
   "cell_type": "code",
   "execution_count": 3,
   "id": "eb9ea262-cec0-4587-b12d-a77e4808a4b2",
   "metadata": {},
   "outputs": [],
   "source": [
    "cap = cv2.VideoCapture(0)\n",
    "cap2 = cv2.VideoCapture(3)"
   ]
  },
  {
   "cell_type": "code",
   "execution_count": 4,
   "id": "2e3bb282-3276-4ab2-9a57-c055f0614f92",
   "metadata": {},
   "outputs": [],
   "source": [
    "if not cap.isOpened() or not cap2.isOpened():\n",
    "    print(\"Cannot open camera\")\n",
    "    exit()\n",
    "count = 0\n",
    "block_size = 11\n",
    "min_disp = -128\n",
    "max_disp = 128\n",
    "\n",
    "# Margin in percentage by which the best (minimum) computed cost function value should \"win\" the second best value to consider the found match correct.\n",
    "# Normally, a value within the 5-15 range is good enough\n",
    "uniquenessRatio = 5\n",
    "# Maximum size of smooth disparity regions to consider their noise speckles and invalidate.\n",
    "# Set it to 0 to disable speckle filtering. Otherwise, set it somewhere in the 50-200 range.\n",
    "speckleWindowSize = 200\n",
    "# Maximum disparity variation within each connected component.\n",
    "# If you do speckle filtering, set the parameter to a positive value, it will be implicitly multiplied by 16.\n",
    "# Normally, 1 or 2 is good enough.\n",
    "speckleRange = 2\n",
    "disp12MaxDiff = 0\n",
    "\n",
    "\n",
    "def nothing(x):\n",
    "    pass\n",
    "    \n",
    "cv2.namedWindow('Disparity',cv2.WINDOW_NORMAL)\n",
    "cv2.resizeWindow('Disparity',450,450)  \n",
    "cv2.createTrackbar('max_disp','Disparity',1,16,nothing)\n",
    "cv2.createTrackbar('min_disp','Disparity',0,32,nothing)\n",
    "cv2.createTrackbar('blockSize','Disparity',5,50,nothing)\n",
    "cv2.createTrackbar('uniquenessRatio','Disparity',15,100,nothing)\n",
    "cv2.createTrackbar('speckleRange','Disparity',0,100,nothing)\n",
    "cv2.createTrackbar('speckleWindowSize','Disparity',3,200,nothing)\n",
    "cv2.createTrackbar('disp12MaxDiff','Disparity',0,25,nothing)\n",
    "\n",
    "\n",
    "while True:\n",
    "    # Capture frame-by-frame\n",
    "    ret, img1 = cap.read()\n",
    "    ret2, img2 = cap2.read()\n",
    "    h1, w1 = img1.shape[:2]\n",
    "    h2, w2 = img1.shape[:2]\n",
    "    \n",
    "    # Updating the parameters based on the trackbar positions\n",
    "    max_disp = cv2.getTrackbarPos('max_disp','Disparity')*16\n",
    "    min_disp = (cv2.getTrackbarPos('min_disp','Disparity') -16)*16\n",
    "    block_size = cv2.getTrackbarPos('blockSize','Disparity')*2 + 5\n",
    "    uniquenessRatio = cv2.getTrackbarPos('uniquenessRatio','Disparity')\n",
    "    speckleRange = cv2.getTrackbarPos('speckleRange','Disparity')\n",
    "    speckleWindowSize = cv2.getTrackbarPos('speckleWindowSize','Disparity')*2\n",
    "    disp12MaxDiff = cv2.getTrackbarPos('disp12MaxDiff','Disparity')\n",
    "\n",
    "    \n",
    "    img1_rectified = cv.warpPerspective(img1, H1, (w1, h1))\n",
    "    img2_rectified = cv.warpPerspective(img2, H2, (w2, h2))\n",
    "    \n",
    "    num_disp = max_disp - min_disp\n",
    "\n",
    "    stereo = cv.StereoSGBM_create(\n",
    "        minDisparity=min_disp,\n",
    "        numDisparities=num_disp,\n",
    "        blockSize=block_size,\n",
    "        uniquenessRatio=uniquenessRatio,\n",
    "        speckleWindowSize=speckleWindowSize,\n",
    "        speckleRange=speckleRange,\n",
    "        disp12MaxDiff=disp12MaxDiff,\n",
    "        P1=8 * 1 * block_size * block_size,\n",
    "        P2=32 * 1 * block_size * block_size,\n",
    "    )\n",
    "    \n",
    "    disparity_SGBM = stereo.compute(img1_rectified, img2_rectified)\n",
    "\n",
    "    # Normalize the values to a range from 0..255 for a grayscale image\n",
    "    disparity_SGBM = cv.normalize(disparity_SGBM, disparity_SGBM, alpha=255,\n",
    "                                  beta=0, norm_type=cv.NORM_MINMAX)\n",
    "    disparity_SGBM = np.uint8(disparity_SGBM)\n",
    "    \n",
    "    imgg = cv2.cvtColor(img1, cv2.COLOR_BGR2GRAY)\n",
    "    \n",
    "    imgg = cv2.resize(imgg, (320,240))\n",
    "    disparity_SGBM = cv2.resize(disparity_SGBM, (320,240))\n",
    "    \n",
    "    # Display the resulting frame\n",
    "    img_concate_Hori = np.concatenate((imgg, disparity_SGBM),axis=0)\n",
    "    cv2.imshow('Output', img_concate_Hori)\n",
    "    key = cv2.waitKey(1)\n",
    "    if key == ord('q'):\n",
    "        break\n",
    "    if key == ord('s'):\n",
    "        print(\"Saving image\")\n",
    "        cv2.imwrite(\"./testData/\"+str(count)+\"L.jpg\", img1)\n",
    "        cv2.imwrite(\"./testData/\"+str(count)+\"R.jpg\", img2)\n",
    "        count = count+1\n",
    "# When everything done, release the capture\n",
    "cv2.destroyAllWindows()"
   ]
  },
  {
   "cell_type": "code",
   "execution_count": 36,
   "id": "6514f27e-b4fc-41ac-b21c-de6411746965",
   "metadata": {},
   "outputs": [],
   "source": [
    "cv2.destroyAllWindows()"
   ]
  },
  {
   "cell_type": "code",
   "execution_count": 5,
   "id": "997ee240-9047-4703-be5e-4239765d78e3",
   "metadata": {},
   "outputs": [],
   "source": [
    "cap.release()\n",
    "cap2.release()\n",
    "cv2.destroyAllWindows()"
   ]
  },
  {
   "cell_type": "code",
   "execution_count": null,
   "id": "8feca665-c8dc-4727-b9c0-cabcb2ead3fb",
   "metadata": {},
   "outputs": [],
   "source": []
  }
 ],
 "metadata": {
  "kernelspec": {
   "display_name": "Python 3 (ipykernel)",
   "language": "python",
   "name": "python3"
  },
  "language_info": {
   "codemirror_mode": {
    "name": "ipython",
    "version": 3
   },
   "file_extension": ".py",
   "mimetype": "text/x-python",
   "name": "python",
   "nbconvert_exporter": "python",
   "pygments_lexer": "ipython3",
   "version": "3.9.7"
  }
 },
 "nbformat": 4,
 "nbformat_minor": 5
}
